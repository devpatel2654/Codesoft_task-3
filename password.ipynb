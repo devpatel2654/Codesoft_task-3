{
 "cells": [
  {
   "cell_type": "code",
   "execution_count": 2,
   "id": "4daf7b8b-83b6-4635-9b58-aa08d24f9f55",
   "metadata": {},
   "outputs": [
    {
     "name": "stdin",
     "output_type": "stream",
     "text": [
      "Enter Your Password Length\n",
      " 8\n"
     ]
    },
    {
     "name": "stdout",
     "output_type": "stream",
     "text": [
      "i2^tMAo@\n"
     ]
    }
   ],
   "source": [
    "# GENERAT PASSWORD \n",
    "\n",
    "import random\n",
    "\n",
    "n = int(input(\"Enter Your Password Length\\n\"))\n",
    "\n",
    "upper_case = (\"ABCDEFGHIJKLMNOPQRSTUVWXYZ\")\n",
    "lower_case = (\"abcdefghijklmnopqrstuvwxyz\")\n",
    "symbols = (\"!@#$%^&*()<>?/|\")\n",
    "numbers = (\"0123456789\")\n",
    "\n",
    "characters = list(upper_case + lower_case + symbols + numbers)\n",
    "\n",
    "length = int(n)\n",
    "\n",
    "password = \"\"\n",
    "\n",
    "for x in range(length):\n",
    "    password = password + random.choice(characters)\n",
    "print(password)"
   ]
  },
  {
   "cell_type": "code",
   "execution_count": null,
   "id": "7838c866-1910-4ceb-afb8-db5b32958f7b",
   "metadata": {},
   "outputs": [],
   "source": []
  }
 ],
 "metadata": {
  "kernelspec": {
   "display_name": "Python 3 (ipykernel)",
   "language": "python",
   "name": "python3"
  },
  "language_info": {
   "codemirror_mode": {
    "name": "ipython",
    "version": 3
   },
   "file_extension": ".py",
   "mimetype": "text/x-python",
   "name": "python",
   "nbconvert_exporter": "python",
   "pygments_lexer": "ipython3",
   "version": "3.12.4"
  }
 },
 "nbformat": 4,
 "nbformat_minor": 5
}
